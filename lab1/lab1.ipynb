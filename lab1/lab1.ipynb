{
 "cells": [
  {
   "cell_type": "code",
   "execution_count": 15,
   "metadata": {
    "scrolled": false
   },
   "outputs": [
    {
     "data": {
      "text/html": [
       "<style>/* Styles used for the Hoogle display in the pager */\n",
       ".hoogle-doc {\n",
       "display: block;\n",
       "padding-bottom: 1.3em;\n",
       "padding-left: 0.4em;\n",
       "}\n",
       ".hoogle-code {\n",
       "display: block;\n",
       "font-family: monospace;\n",
       "white-space: pre;\n",
       "}\n",
       ".hoogle-text {\n",
       "display: block;\n",
       "}\n",
       ".hoogle-name {\n",
       "color: green;\n",
       "font-weight: bold;\n",
       "}\n",
       ".hoogle-head {\n",
       "font-weight: bold;\n",
       "}\n",
       ".hoogle-sub {\n",
       "display: block;\n",
       "margin-left: 0.4em;\n",
       "}\n",
       ".hoogle-package {\n",
       "font-weight: bold;\n",
       "font-style: italic;\n",
       "}\n",
       ".hoogle-module {\n",
       "font-weight: bold;\n",
       "}\n",
       ".hoogle-class {\n",
       "font-weight: bold;\n",
       "}\n",
       ".get-type {\n",
       "color: green;\n",
       "font-weight: bold;\n",
       "font-family: monospace;\n",
       "display: block;\n",
       "white-space: pre-wrap;\n",
       "}\n",
       ".show-type {\n",
       "color: green;\n",
       "font-weight: bold;\n",
       "font-family: monospace;\n",
       "margin-left: 1em;\n",
       "}\n",
       ".mono {\n",
       "font-family: monospace;\n",
       "display: block;\n",
       "}\n",
       ".err-msg {\n",
       "color: red;\n",
       "font-style: italic;\n",
       "font-family: monospace;\n",
       "white-space: pre;\n",
       "display: block;\n",
       "}\n",
       "#unshowable {\n",
       "color: red;\n",
       "font-weight: bold;\n",
       "}\n",
       ".err-msg.in.collapse {\n",
       "padding-top: 0.7em;\n",
       "}\n",
       ".highlight-code {\n",
       "white-space: pre;\n",
       "font-family: monospace;\n",
       "}\n",
       ".suggestion-warning { \n",
       "font-weight: bold;\n",
       "color: rgb(200, 130, 0);\n",
       "}\n",
       ".suggestion-error { \n",
       "font-weight: bold;\n",
       "color: red;\n",
       "}\n",
       ".suggestion-name {\n",
       "font-weight: bold;\n",
       "}\n",
       "</style><div class=\"suggestion-name\" style=\"clear:both;\">Use guards</div><div class=\"suggestion-row\" style=\"float: left;\"><div class=\"suggestion-warning\">Found:</div><div class=\"highlight-code\" id=\"haskell\">max3 x y z = if x > y && x > z then x else if y > z then y else z</div></div><div class=\"suggestion-row\" style=\"float: left;\"><div class=\"suggestion-warning\">Why Not:</div><div class=\"highlight-code\" id=\"haskell\">max3 x y z\n",
       "  | x > y && x > z = x\n",
       "  | y > z = y\n",
       "  | otherwise = z</div></div><div class=\"suggestion-name\" style=\"clear:both;\">Use guards</div><div class=\"suggestion-row\" style=\"float: left;\"><div class=\"suggestion-warning\">Found:</div><div class=\"highlight-code\" id=\"haskell\">median3 x y z\n",
       "  = if x >= y && x <= z then x else if y >= x && y <= z then y else z</div></div><div class=\"suggestion-row\" style=\"float: left;\"><div class=\"suggestion-warning\">Why Not:</div><div class=\"highlight-code\" id=\"haskell\">median3 x y z\n",
       "  | x >= y && x <= z = x\n",
       "  | y >= x && y <= z = y\n",
       "  | otherwise = z</div></div><div class=\"suggestion-name\" style=\"clear:both;\">Redundant bracket</div><div class=\"suggestion-row\" style=\"float: left;\"><div class=\"suggestion-warning\">Found:</div><div class=\"highlight-code\" id=\"haskell\">if k /= 1.0 then\n",
       "  ((1 - k - fromIntegral (red color) / 255) / (1 - k)) else 0.0</div></div><div class=\"suggestion-row\" style=\"float: left;\"><div class=\"suggestion-warning\">Why Not:</div><div class=\"highlight-code\" id=\"haskell\">if k /= 1.0 then (1 - k - fromIntegral (red color) / 255) / (1 - k)\n",
       "  else 0.0</div></div><div class=\"suggestion-name\" style=\"clear:both;\">Redundant bracket</div><div class=\"suggestion-row\" style=\"float: left;\"><div class=\"suggestion-warning\">Found:</div><div class=\"highlight-code\" id=\"haskell\">if k /= 1.0 then\n",
       "  ((1 - k - fromIntegral (green color) / 255) / (1 - k)) else 0.0</div></div><div class=\"suggestion-row\" style=\"float: left;\"><div class=\"suggestion-warning\">Why Not:</div><div class=\"highlight-code\" id=\"haskell\">if k /= 1.0 then\n",
       "  (1 - k - fromIntegral (green color) / 255) / (1 - k) else 0.0</div></div><div class=\"suggestion-name\" style=\"clear:both;\">Redundant bracket</div><div class=\"suggestion-row\" style=\"float: left;\"><div class=\"suggestion-warning\">Found:</div><div class=\"highlight-code\" id=\"haskell\">if k /= 1.0 then\n",
       "  ((1 - k - fromIntegral (blue color) / 255) / (1 - k)) else 0.0</div></div><div class=\"suggestion-row\" style=\"float: left;\"><div class=\"suggestion-warning\">Why Not:</div><div class=\"highlight-code\" id=\"haskell\">if k /= 1.0 then\n",
       "  (1 - k - fromIntegral (blue color) / 255) / (1 - k) else 0.0</div></div><div class=\"suggestion-name\" style=\"clear:both;\">Redundant bracket</div><div class=\"suggestion-row\" style=\"float: left;\"><div class=\"suggestion-warning\">Found:</div><div class=\"highlight-code\" id=\"haskell\">(geomProgression b q (n - 1)) * q</div></div><div class=\"suggestion-row\" style=\"float: left;\"><div class=\"suggestion-warning\">Why Not:</div><div class=\"highlight-code\" id=\"haskell\">geomProgression b q (n - 1) * q</div></div><div class=\"suggestion-name\" style=\"clear:both;\">Use newtype instead of data</div><div class=\"suggestion-row\" style=\"float: left;\"><div class=\"suggestion-warning\">Found:</div><div class=\"highlight-code\" id=\"haskell\">data Point = Point [Double]\n",
       "               deriving (Eq, Show, Read)</div></div><div class=\"suggestion-row\" style=\"float: left;\"><div class=\"suggestion-warning\">Why Not:</div><div class=\"highlight-code\" id=\"haskell\">newtype Point = Point [Double]\n",
       "                  deriving (Eq, Show, Read)</div></div>"
      ],
      "text/plain": [
       "Line 33: Use guards\n",
       "Found:\n",
       "max3 x y z = if x > y && x > z then x else if y > z then y else z\n",
       "Why not:\n",
       "max3 x y z\n",
       "  | x > y && x > z = x\n",
       "  | y > z = y\n",
       "  | otherwise = zLine 35: Use guards\n",
       "Found:\n",
       "median3 x y z\n",
       "  = if x >= y && x <= z then x else if y >= x && y <= z then y else z\n",
       "Why not:\n",
       "median3 x y z\n",
       "  | x >= y && x <= z = x\n",
       "  | y >= x && y <= z = y\n",
       "  | otherwise = zLine 54: Redundant bracket\n",
       "Found:\n",
       "if k /= 1.0 then\n",
       "  ((1 - k - fromIntegral (red color) / 255) / (1 - k)) else 0.0\n",
       "Why not:\n",
       "if k /= 1.0 then (1 - k - fromIntegral (red color) / 255) / (1 - k)\n",
       "  else 0.0Line 55: Redundant bracket\n",
       "Found:\n",
       "if k /= 1.0 then\n",
       "  ((1 - k - fromIntegral (green color) / 255) / (1 - k)) else 0.0\n",
       "Why not:\n",
       "if k /= 1.0 then\n",
       "  (1 - k - fromIntegral (green color) / 255) / (1 - k) else 0.0Line 56: Redundant bracket\n",
       "Found:\n",
       "if k /= 1.0 then\n",
       "  ((1 - k - fromIntegral (blue color) / 255) / (1 - k)) else 0.0\n",
       "Why not:\n",
       "if k /= 1.0 then\n",
       "  (1 - k - fromIntegral (blue color) / 255) / (1 - k) else 0.0Line 69: Redundant bracket\n",
       "Found:\n",
       "(geomProgression b q (n - 1)) * q\n",
       "Why not:\n",
       "geomProgression b q (n - 1) * qLine 89: Use newtype instead of data\n",
       "Found:\n",
       "data Point = Point [Double]\n",
       "               deriving (Eq, Show, Read)\n",
       "Why not:\n",
       "newtype Point = Point [Double]\n",
       "                  deriving (Eq, Show, Read)"
      ]
     },
     "metadata": {},
     "output_type": "display_data"
    },
    {
     "data": {
      "text/plain": [
       "\n",
       "\u001b[;1m<interactive>:1:5: \u001b[;1m\u001b[35mwarning:\u001b[0m\u001b[0m\u001b[;1m [\u001b[;1m\u001b[35m-Wname-shadowing\u001b[0m\u001b[0m\u001b[;1m]\u001b[0m\u001b[0m\u001b[;1m This binding for ‘it’ shadows the existing binding defined at <interactive>:1:1\u001b[0m\u001b[0m\n",
       "\u001b[0m\u001b[0m\u001b[0m\n",
       "\u001b[;1m<interactive>:1:5: \u001b[;1m\u001b[35mwarning:\u001b[0m\u001b[0m\u001b[;1m [\u001b[;1m\u001b[35m-Wname-shadowing\u001b[0m\u001b[0m\u001b[;1m]\u001b[0m\u001b[0m\u001b[;1m This binding for ‘it_var_38892846710904732482’ shadows the existing binding defined at <interactive>:1:5\u001b[0m\u001b[0m\n",
       "\u001b[0m\u001b[0m\u001b[0m"
      ]
     },
     "metadata": {},
     "output_type": "display_data"
    }
   ],
   "source": [
    "-- В сдаваемой версии не должно быть предупреждений\n",
    "-- (в исходной они есть, поскольку аргументы функций не используются).\n",
    "{-# OPTIONS_GHC -Wall #-}\n",
    "\n",
    "-- Для первых упражнений есть тесты в Lab1_Test.hs. Добавьте свои!\n",
    "\n",
    "-- Не забывайте, что можно добавлять вспомогательные\n",
    "-- функции и переменные. Старайтесь, чтобы код был\n",
    "-- читаемым. Рекомендации по оформлению кода: \n",
    "-- https://github.com/tibbe/haskell-style-guide/blob/master/haskell-style.md\n",
    "-- Как компилятор понимает отступы: https://en.wikibooks.org/wiki/Haskell/Indentation\n",
    "\n",
    "-- Одно из заданий вынесено в файл Luhn.hs для отделения его вспомогательных\n",
    "-- функций. Рекомендуемая очерёдность выполнения: после distance или после intersect.\n",
    "module Lab1 where\n",
    "\n",
    "-- xor x y находит \"исключающее или\" x и y\n",
    "-- xor True False == True\n",
    "-- xor True True == False\n",
    "\n",
    "-- используйте сопоставление с образцом\n",
    "xor :: Bool -> Bool -> Bool\n",
    "xor True True = False\n",
    "xor x y = x || y \n",
    "\n",
    "-- max3 x y z находит максимум из x, y и z\n",
    "-- max3 1 3 2 == 3\n",
    "-- max3 5 2 5 == 5\n",
    "-- median3 x y z находит второе по величине число (медиану)\n",
    "-- median3 1 3 2 == 2\n",
    "-- median3 5 2 5 == 5\n",
    "max3, median3 :: Integer -> Integer -> Integer -> Integer\n",
    "max3 x y z = if x > y && x > z then x else if y > z then y else z\n",
    "\n",
    "median3 x y z = if x >= y && x <= z then x else if y >= x && y <= z then y else z\n",
    "\n",
    "-- Типы данных, описывающие цвета в моделях \n",
    "-- RGB (https://ru.wikipedia.org/wiki/RGB), компоненты от 0 до 255\n",
    "-- и CMYK (https://ru.wikipedia.org/wiki/CMYK), компоненты от 0.0 до 1.0\n",
    "data RGB = RGB { red :: Int, green :: Int, blue :: Int } deriving (Eq, Show, Read)\n",
    "data CMYK = CMYK { cyan :: Double, magenta :: Double, yellow :: Double, black :: Double } deriving (Eq, Show, Read)\n",
    "-- Задайте функцию для их преобразования\n",
    "-- (формулы из http://www.codeproject.com/Articles/4488/XCmyk-CMYK-to-RGB-Calculator-with-source-code):\n",
    "-- Black   = min(1-Red, 1-Green, 1-Blue)\n",
    "-- Cyan    = (1-Red-Black) / (1-Black)\n",
    "-- Magenta = (1-Green-Black) / (1-Black)\n",
    "-- Yellow  = (1-Blue-Black) / (1-Black) \n",
    "-- где значения Red, Green и Blue нормализованы от 0 до 1).\n",
    "\n",
    "-- Заметьте, что (/) для Int не работает, и неявного преобразования Int в Double нет.\n",
    "-- Это преобразование производится с помощью функции fromIntegral.\n",
    "rbgToCmyk :: RGB -> CMYK\n",
    "rbgToCmyk color = CMYK\n",
    " (if k /= 1.0 then ((1-k-fromIntegral(red color)/255)/(1-k)) else 0.0)\n",
    "  (if k /= 1.0 then ((1-k-fromIntegral(green color)/255)/(1-k)) else 0.0)\n",
    "   (if k /= 1.0 then ((1-k-fromIntegral(blue color)/255)/(1-k)) else 0.0)\n",
    "    k\n",
    "     where k = min (min (1-fromIntegral(red color)/255) (1-fromIntegral(green color)/255)) (1-fromIntegral(blue color)/255)\n",
    "\n",
    "-- geomProgression b q n находит n-й (считая с 0) член \n",
    "-- геометрической прогрессии, нулевой член которой -- b, \n",
    "-- а знаменатель -- q.\n",
    "-- geomProgression 3.0 2.0 2 == 12.0\n",
    "\n",
    "-- используйте рекурсию\n",
    "-- не забудьте случаи n < 0 и n == 0.\n",
    "geomProgression :: Double -> Double -> Integer -> Double\n",
    "geomProgression b _q 1 = b\n",
    "geomProgression b q n | n > 0 = (geomProgression b q (n-1))*q\n",
    "\n",
    "-- coprime a b определяет, являются ли a и b взаимно простыми\n",
    "-- (определение: Целые числа называются взаимно простыми, \n",
    "-- если они не имеют никаких общих делителей, кроме +/-1)\n",
    "-- coprime 10 15 == False\n",
    "-- coprime 12 35 == True\n",
    "\n",
    "-- используйте рекурсию\n",
    "-- есть ли важные пограничные случаи?\n",
    "-- полезные функции в Prelude (автоматически загруженной\n",
    "-- части стандартной библиотеки): quot, rem, quotRem \n",
    "-- (или div, mod, divMod в зависимости от того, как \n",
    "-- обрабатываете отрицательные числа)\n",
    "-- https://hackage.haskell.org/package/base-4.9.0.0/docs/Prelude.html\n",
    "coprime :: Integer -> Integer -> Bool\n",
    "coprime a 0 = a == 1 || a == -1\n",
    "coprime a b = coprime b (mod a b)\n",
    "\n",
    "-- вектор задаётся списком координат\n",
    "data Point = Point [Double] deriving (Eq, Show, Read)\n",
    "\n",
    "-- distance x y находит расстояние между двумя точками в n-мерном\n",
    "-- пространстве. Если число координат точек разное, сообщите об ошибке.\n",
    "-- distance (Point [1.0, 0.0]) (Point [0.0, 1.0]) == sqrt 2.0\n",
    "-- distance (Point [0.0, 0.0]) (Point [0.0, 1.0]) == 1.0\n",
    "-- используйте рекурсию и сопоставление с образцом\n",
    "\n",
    "distanceCalc :: [Double] -> [Double] -> Double\n",
    "distanceCalc [] [] = 0\n",
    "distanceCalc (x:xs) (y:ys)  = (x-y)**2 + distanceCalc xs ys\n",
    "\n",
    "distance :: Point -> Point -> Double\n",
    "distance (Point x) (Point y) = if length x == length y then sqrt (distanceCalc x y) else error $ \"dimension x: \" \n",
    "            ++ show (length x) ++ \" dimension y:\" ++ show (length y)\n",
    "            \n",
    "-- intersect xs ys возвращает список, содержащий общие элементы двух списков.\n",
    "-- intersect [1, 2, 4, 6] [5, 4, 2, 5, 7] == [2, 4] (или [4, 2]!)\n",
    "-- intersect [1, 2, 4, 6] [3, 5, 7] == []\n",
    "\n",
    "-- используйте рекурсию и сопоставление с образцом\n",
    "intersect :: [Integer] -> [Integer] -> [Integer]\n",
    "intersect [] _ = []\n",
    "intersect _ [] = []\n",
    "intersect (x:xs) ys = if x `elem` ys \n",
    "                        then x:intersect xs ys \n",
    "                        else xs `intersect` ys\n",
    "                        \n",
    "-- zipN принимает список списков и возвращает список, который состоит из\n",
    "-- списка их первых элементов, списка их вторых элементов, и так далее.\n",
    "-- zipN [[1, 2, 3], [4, 5, 6], [7, 8, 9]] == [[1, 4, 7], [2, 5, 8], [3, 6, 9]]\n",
    "zipN :: [[a]] -> [[a]]\n",
    "support :: [a] -> Bool\n",
    "support x = not (null x)\n",
    "zipN xss \n",
    "    |all null xss = []\n",
    "    |otherwise = map head xss:zipN (filter support (map tail xss))\n",
    "    \n",
    "-- Нижеперечисленные функции можно реализовать или рекурсивно, или с помощью \n",
    "-- стандартных функций для работы со списками (map, filter и т.д.)\n",
    "-- Попробуйте оба подхода! Хотя бы одну функцию реализуйте обоими способами.\n",
    "\n",
    "-- Если в списке xs есть такие элементы x, для которых f x == True, то\n",
    "-- find f xs возвращает Just (первый x), а findLast f xs -- Just (последний x).\n",
    "-- Если таких нет, то обе функции возвращают Nothing\n",
    "-- find (> 0) [-1, 2, -3, 4] == Just 2\n",
    "-- findLast (> 0) [-1, 2, -3, 4] == Just 4\n",
    "-- find (> 0) [-1, -2, -3] == Nothing\n",
    "--\n",
    "find, findLast :: (a -> Bool) -> [a] -> Maybe a\n",
    "find f xs = if null w then Nothing \n",
    "            else Just (head w)\n",
    "            where \n",
    "                w = filter f xs\n",
    "\n",
    "--find :: (a -> Bool) -> [a] -> Maybe a\n",
    "--find _ [] = Nothing\n",
    "--find f (x:xs) = if f x then Just x else find f xs\n",
    "\n",
    "findLast f xs = if null w then Nothing \n",
    "            else Just (last w)\n",
    "            where \n",
    "                w = filter f xs \n",
    "                \n",
    "-- mapFuncs принимает список функций fs и возвращает список результатов \n",
    "-- применения всех функций из fs к x.\n",
    "-- mapFuncs [\\x -> x*x, (1 +), \\x -> if even x then 1 else 0] 3 == [9, 4, 0]\n",
    "mapFuncs :: [a -> b] -> a -> [b]\n",
    "mapFuncs [] _ = []\n",
    "mapFuncs (f:fs) x = f x:mapFuncs fs x\n",
    "\n",
    "-- satisfiesAll принимает список предикатов (функций, возвращающих Bool) preds \n",
    "-- и возвращает True, если все они выполняются \n",
    "-- (т.е. возвращают True) для x. Полезные стандартные функции: and, all.\n",
    "-- satisfiesAll [even, \\x -> x rem 5 == 0] 10 == True\n",
    "-- satisfiesAll [] 4 == True (кстати, почему?)\n",
    "satisfiesAll :: [a -> Bool] -> a -> Bool\n",
    "satisfiesAll [] _ = True\n",
    "satisfiesAll (f:preds) x = f x && satisfiesAll preds x\n",
    "\n",
    "-- непустой список состоит из первого элемента (головы)\n",
    "-- и обычного списка остальных элементов\n",
    "data NEL a = NEL a [a]\n",
    "\n",
    "-- запишите правильный тип (т.е. такой, чтобы функция имела результат для любых аргументов)\n",
    "-- и реализуйте функции на NEL, аналогичные tail, last и zip\n",
    "-- tailNel :: NEL a -> ???\n",
    "-- lastNel :: NEL a -> ???\n",
    "-- zipNel :: NEL a -> NEL b -> ???\n",
    "-- listToNel :: [a] -> ???\n",
    "-- nelToList :: NEL a -> ???\n",
    "\n",
    "tailNel :: NEL a -> [a]\n",
    "tailNel (NEL _ x) = x\n",
    "lastNel :: NEL a -> a\n",
    "lastNel (NEL a []) = a\n",
    "lastNel (NEL _ x) = last x\n",
    "\n",
    "zipNel :: NEL a -> NEL b -> [(a,b)]\n",
    "zipNel (NEL x xs) (NEL y ys) = (x, y) : zip xs ys\n",
    "\n",
    "listToNel :: [a] -> Maybe (NEL a) \n",
    "listToNel [] = Nothing\n",
    "listToNel (x:xs) = Just (NEL x xs)\n",
    "\n",
    "nelToList :: NEL a -> [a]\n",
    "nelToList (NEL a x) = a : x"
   ]
  },
  {
   "cell_type": "code",
   "execution_count": 3,
   "metadata": {},
   "outputs": [],
   "source": []
  },
  {
   "cell_type": "code",
   "execution_count": 2,
   "metadata": {},
   "outputs": [
    {
     "data": {
      "text/plain": [
       "\n",
       "\u001b[;1m<interactive>:1:5: \u001b[;1m\u001b[35mwarning:\u001b[0m\u001b[0m\u001b[;1m [\u001b[;1m\u001b[35m-Wname-shadowing\u001b[0m\u001b[0m\u001b[;1m]\u001b[0m\u001b[0m\u001b[;1m This binding for ‘it’ shadows the existing binding defined at <interactive>:1:1\u001b[0m\u001b[0m\n",
       "\u001b[0m\u001b[0m\u001b[0m\n",
       "\u001b[;1m<interactive>:1:5: \u001b[;1m\u001b[35mwarning:\u001b[0m\u001b[0m\u001b[;1m [\u001b[;1m\u001b[35m-Wname-shadowing\u001b[0m\u001b[0m\u001b[;1m]\u001b[0m\u001b[0m\u001b[;1m This binding for ‘it_var_15492872418000234807’ shadows the existing binding defined at <interactive>:1:5\u001b[0m\u001b[0m\n",
       "\u001b[0m\u001b[0m\u001b[0m"
      ]
     },
     "metadata": {},
     "output_type": "display_data"
    }
   ],
   "source": [
    "import Lab1"
   ]
  },
  {
   "cell_type": "code",
   "execution_count": 7,
   "metadata": {},
   "outputs": [
    {
     "data": {
      "text/plain": [
       "\n",
       "\u001b[;1m<interactive>:1:5: \u001b[;1m\u001b[35mwarning:\u001b[0m\u001b[0m\u001b[;1m [\u001b[;1m\u001b[35m-Wname-shadowing\u001b[0m\u001b[0m\u001b[;1m]\u001b[0m\u001b[0m\u001b[;1m This binding for ‘it’ shadows the existing binding defined at <interactive>:1:1\u001b[0m\u001b[0m\n",
       "\u001b[0m\u001b[0m\u001b[0m1.0\n",
       "\n",
       "\u001b[;1m<interactive>:1:5: \u001b[;1m\u001b[35mwarning:\u001b[0m\u001b[0m\u001b[;1m [\u001b[;1m\u001b[35m-Wname-shadowing\u001b[0m\u001b[0m\u001b[;1m]\u001b[0m\u001b[0m\u001b[;1m This binding for ‘it_var_15492872418000234807’ shadows the existing binding defined at <interactive>:1:5\u001b[0m\u001b[0m\n",
       "\u001b[0m\u001b[0m\u001b[0m"
      ]
     },
     "metadata": {},
     "output_type": "display_data"
    },
    {
     "data": {
      "text/plain": [
       "\n",
       "\u001b[;1m<interactive>:1:5: \u001b[;1m\u001b[35mwarning:\u001b[0m\u001b[0m\u001b[;1m [\u001b[;1m\u001b[35m-Wname-shadowing\u001b[0m\u001b[0m\u001b[;1m]\u001b[0m\u001b[0m\u001b[;1m This binding for ‘it’ shadows the existing binding defined at <interactive>:1:1\u001b[0m\u001b[0m\n",
       "\u001b[0m\u001b[0m\u001b[0m\n",
       "\u001b[;1m<interactive>:1:5: \u001b[;1m\u001b[35mwarning:\u001b[0m\u001b[0m\u001b[;1m [\u001b[;1m\u001b[35m-Wname-shadowing\u001b[0m\u001b[0m\u001b[;1m]\u001b[0m\u001b[0m\u001b[;1m This binding for ‘it_var_15492872418000234807’ shadows the existing binding defined at <interactive>:1:5\u001b[0m\u001b[0m\n",
       "\u001b[0m\u001b[0m\u001b[0m"
      ]
     },
     "metadata": {},
     "output_type": "display_data"
    }
   ],
   "source": [
    "Lab1.distance (Point [1.0, 1.0, 1.0]) (Point [2.0,1.0,1.0]) "
   ]
  },
  {
   "cell_type": "code",
   "execution_count": 46,
   "metadata": {},
   "outputs": [],
   "source": []
  },
  {
   "cell_type": "code",
   "execution_count": null,
   "metadata": {},
   "outputs": [],
   "source": []
  },
  {
   "cell_type": "code",
   "execution_count": 12,
   "metadata": {},
   "outputs": [
    {
     "data": {
      "text/html": [
       "<style>/* Styles used for the Hoogle display in the pager */\n",
       ".hoogle-doc {\n",
       "display: block;\n",
       "padding-bottom: 1.3em;\n",
       "padding-left: 0.4em;\n",
       "}\n",
       ".hoogle-code {\n",
       "display: block;\n",
       "font-family: monospace;\n",
       "white-space: pre;\n",
       "}\n",
       ".hoogle-text {\n",
       "display: block;\n",
       "}\n",
       ".hoogle-name {\n",
       "color: green;\n",
       "font-weight: bold;\n",
       "}\n",
       ".hoogle-head {\n",
       "font-weight: bold;\n",
       "}\n",
       ".hoogle-sub {\n",
       "display: block;\n",
       "margin-left: 0.4em;\n",
       "}\n",
       ".hoogle-package {\n",
       "font-weight: bold;\n",
       "font-style: italic;\n",
       "}\n",
       ".hoogle-module {\n",
       "font-weight: bold;\n",
       "}\n",
       ".hoogle-class {\n",
       "font-weight: bold;\n",
       "}\n",
       ".get-type {\n",
       "color: green;\n",
       "font-weight: bold;\n",
       "font-family: monospace;\n",
       "display: block;\n",
       "white-space: pre-wrap;\n",
       "}\n",
       ".show-type {\n",
       "color: green;\n",
       "font-weight: bold;\n",
       "font-family: monospace;\n",
       "margin-left: 1em;\n",
       "}\n",
       ".mono {\n",
       "font-family: monospace;\n",
       "display: block;\n",
       "}\n",
       ".err-msg {\n",
       "color: red;\n",
       "font-style: italic;\n",
       "font-family: monospace;\n",
       "white-space: pre;\n",
       "display: block;\n",
       "}\n",
       "#unshowable {\n",
       "color: red;\n",
       "font-weight: bold;\n",
       "}\n",
       ".err-msg.in.collapse {\n",
       "padding-top: 0.7em;\n",
       "}\n",
       ".highlight-code {\n",
       "white-space: pre;\n",
       "font-family: monospace;\n",
       "}\n",
       ".suggestion-warning { \n",
       "font-weight: bold;\n",
       "color: rgb(200, 130, 0);\n",
       "}\n",
       ".suggestion-error { \n",
       "font-weight: bold;\n",
       "color: red;\n",
       "}\n",
       ".suggestion-name {\n",
       "font-weight: bold;\n",
       "}\n",
       "</style><div class=\"suggestion-name\" style=\"clear:both;\">Redundant bracket</div><div class=\"suggestion-row\" style=\"float: left;\"><div class=\"suggestion-warning\">Found:</div><div class=\"highlight-code\" id=\"haskell\">(geomProgression b q (n - 1)) * q</div></div><div class=\"suggestion-row\" style=\"float: left;\"><div class=\"suggestion-warning\">Why Not:</div><div class=\"highlight-code\" id=\"haskell\">geomProgression b q (n - 1) * q</div></div>"
      ],
      "text/plain": [
       "Line 3: Redundant bracket\n",
       "Found:\n",
       "(geomProgression b q (n - 1)) * q\n",
       "Why not:\n",
       "geomProgression b q (n - 1) * q"
      ]
     },
     "metadata": {},
     "output_type": "display_data"
    }
   ],
   "source": [
    "geomProgression :: Double -> Double -> Integer -> Double\n",
    "geomProgression b _q 0 = b\n",
    "geomProgression b q n | n > 0 = (geomProgression b q (n-1)) * q"
   ]
  },
  {
   "cell_type": "code",
   "execution_count": 17,
   "metadata": {},
   "outputs": [
    {
     "data": {
      "text/plain": [
       "\n",
       "\u001b[;1m<interactive>:1:5: \u001b[;1m\u001b[35mwarning:\u001b[0m\u001b[0m\u001b[;1m [\u001b[;1m\u001b[35m-Wname-shadowing\u001b[0m\u001b[0m\u001b[;1m]\u001b[0m\u001b[0m\u001b[;1m This binding for ‘it’ shadows the existing binding defined at <interactive>:1:1\u001b[0m\u001b[0m\n",
       "\u001b[0m\u001b[0m\u001b[0mTrue\n",
       "\n",
       "\u001b[;1m<interactive>:1:5: \u001b[;1m\u001b[35mwarning:\u001b[0m\u001b[0m\u001b[;1m [\u001b[;1m\u001b[35m-Wname-shadowing\u001b[0m\u001b[0m\u001b[;1m]\u001b[0m\u001b[0m\u001b[;1m This binding for ‘it_var_38892846710904732482’ shadows the existing binding defined at <interactive>:1:5\u001b[0m\u001b[0m\n",
       "\u001b[0m\u001b[0m\u001b[0m"
      ]
     },
     "metadata": {},
     "output_type": "display_data"
    },
    {
     "data": {
      "text/plain": [
       "\n",
       "\u001b[;1m<interactive>:1:5: \u001b[;1m\u001b[35mwarning:\u001b[0m\u001b[0m\u001b[;1m [\u001b[;1m\u001b[35m-Wname-shadowing\u001b[0m\u001b[0m\u001b[;1m]\u001b[0m\u001b[0m\u001b[;1m This binding for ‘it’ shadows the existing binding defined at <interactive>:1:1\u001b[0m\u001b[0m\n",
       "\u001b[0m\u001b[0m\u001b[0m\n",
       "\u001b[;1m<interactive>:1:5: \u001b[;1m\u001b[35mwarning:\u001b[0m\u001b[0m\u001b[;1m [\u001b[;1m\u001b[35m-Wname-shadowing\u001b[0m\u001b[0m\u001b[;1m]\u001b[0m\u001b[0m\u001b[;1m This binding for ‘it_var_38892846710904732482’ shadows the existing binding defined at <interactive>:1:5\u001b[0m\u001b[0m\n",
       "\u001b[0m\u001b[0m\u001b[0m"
      ]
     },
     "metadata": {},
     "output_type": "display_data"
    }
   ],
   "source": [
    "distance (Point [1.0, 0, 0, 0, 0]) (Point [0.0, 1.0, 0, 0, 0]) == sqrt 2"
   ]
  },
  {
   "cell_type": "code",
   "execution_count": 54,
   "metadata": {},
   "outputs": [],
   "source": []
  },
  {
   "cell_type": "code",
   "execution_count": null,
   "metadata": {},
   "outputs": [],
   "source": []
  },
  {
   "cell_type": "code",
   "execution_count": 64,
   "metadata": {},
   "outputs": [],
   "source": []
  },
  {
   "cell_type": "code",
   "execution_count": 99,
   "metadata": {},
   "outputs": [],
   "source": []
  },
  {
   "cell_type": "code",
   "execution_count": null,
   "metadata": {},
   "outputs": [],
   "source": []
  },
  {
   "cell_type": "code",
   "execution_count": 1,
   "metadata": {},
   "outputs": [],
   "source": []
  },
  {
   "cell_type": "code",
   "execution_count": null,
   "metadata": {},
   "outputs": [],
   "source": []
  },
  {
   "cell_type": "code",
   "execution_count": 3,
   "metadata": {},
   "outputs": [
    {
     "data": {
      "text/html": [
       "<style>/* Styles used for the Hoogle display in the pager */\n",
       ".hoogle-doc {\n",
       "display: block;\n",
       "padding-bottom: 1.3em;\n",
       "padding-left: 0.4em;\n",
       "}\n",
       ".hoogle-code {\n",
       "display: block;\n",
       "font-family: monospace;\n",
       "white-space: pre;\n",
       "}\n",
       ".hoogle-text {\n",
       "display: block;\n",
       "}\n",
       ".hoogle-name {\n",
       "color: green;\n",
       "font-weight: bold;\n",
       "}\n",
       ".hoogle-head {\n",
       "font-weight: bold;\n",
       "}\n",
       ".hoogle-sub {\n",
       "display: block;\n",
       "margin-left: 0.4em;\n",
       "}\n",
       ".hoogle-package {\n",
       "font-weight: bold;\n",
       "font-style: italic;\n",
       "}\n",
       ".hoogle-module {\n",
       "font-weight: bold;\n",
       "}\n",
       ".hoogle-class {\n",
       "font-weight: bold;\n",
       "}\n",
       ".get-type {\n",
       "color: green;\n",
       "font-weight: bold;\n",
       "font-family: monospace;\n",
       "display: block;\n",
       "white-space: pre-wrap;\n",
       "}\n",
       ".show-type {\n",
       "color: green;\n",
       "font-weight: bold;\n",
       "font-family: monospace;\n",
       "margin-left: 1em;\n",
       "}\n",
       ".mono {\n",
       "font-family: monospace;\n",
       "display: block;\n",
       "}\n",
       ".err-msg {\n",
       "color: red;\n",
       "font-style: italic;\n",
       "font-family: monospace;\n",
       "white-space: pre;\n",
       "display: block;\n",
       "}\n",
       "#unshowable {\n",
       "color: red;\n",
       "font-weight: bold;\n",
       "}\n",
       ".err-msg.in.collapse {\n",
       "padding-top: 0.7em;\n",
       "}\n",
       ".highlight-code {\n",
       "white-space: pre;\n",
       "font-family: monospace;\n",
       "}\n",
       ".suggestion-warning { \n",
       "font-weight: bold;\n",
       "color: rgb(200, 130, 0);\n",
       "}\n",
       ".suggestion-error { \n",
       "font-weight: bold;\n",
       "color: red;\n",
       "}\n",
       ".suggestion-name {\n",
       "font-weight: bold;\n",
       "}\n",
       "</style><div class=\"suggestion-name\" style=\"clear:both;\">Redundant bracket</div><div class=\"suggestion-row\" style=\"float: left;\"><div class=\"suggestion-warning\">Found:</div><div class=\"highlight-code\" id=\"haskell\">(length xs) `mod` 2</div></div><div class=\"suggestion-row\" style=\"float: left;\"><div class=\"suggestion-warning\">Why Not:</div><div class=\"highlight-code\" id=\"haskell\">length xs `mod` 2</div></div>"
      ],
      "text/plain": [
       "Line 3: Redundant bracket\n",
       "Found:\n",
       "(length xs) `mod` 2\n",
       "Why not:\n",
       "length xs `mod` 2"
      ]
     },
     "metadata": {},
     "output_type": "display_data"
    }
   ],
   "source": [
    "luhn2mult :: Int -> Int\n",
    "luhn2mult x = if c > 9 then c-9 else c\n",
    "                where c = 2 * x\n",
    "\n",
    "luhnStep :: [Int]  -> Int\n",
    "luhnStep [] = 0\n",
    "luhnStep (x:xs) = if (length xs) `mod` 2 == 1 then luhn2mult x + luhnStep xs else x + luhnStep xs\n",
    "\n",
    "isLuhnValid :: [Int] -> Bool\n",
    "isLuhnValid xs = if length xs > 0  then luhnStep xs `mod` 10 == 0 else error \"input sequence are empty\""
   ]
  },
  {
   "cell_type": "code",
   "execution_count": 10,
   "metadata": {},
   "outputs": [
    {
     "data": {
      "text/plain": [
       "False"
      ]
     },
     "metadata": {},
     "output_type": "display_data"
    }
   ],
   "source": [
    "isLuhnValid [1,2,3,4,5,6]"
   ]
  },
  {
   "cell_type": "code",
   "execution_count": 49,
   "metadata": {},
   "outputs": [
    {
     "ename": "",
     "evalue": "",
     "output_type": "error",
     "traceback": [
      "<interactive>:2:18: error:\n    • Variable not in scope: lunhStep :: [Int] -> Integer\n    • Perhaps you meant one of these: ‘Ghci87.luhnStep’ (imported from Ghci87), ‘Ghci309.luhnStep’ (imported from Ghci309), ‘Ghci327.luhnStep’ (imported from Ghci327)"
     ]
    }
   ],
   "source": []
  },
  {
   "cell_type": "code",
   "execution_count": 11,
   "metadata": {},
   "outputs": [
    {
     "data": {
      "text/plain": [
       "False"
      ]
     },
     "metadata": {},
     "output_type": "display_data"
    }
   ],
   "source": [
    "isLuhnValid [3,3,3]\n",
    "isLuhnValid [3,8,0] == True"
   ]
  },
  {
   "cell_type": "code",
   "execution_count": 15,
   "metadata": {},
   "outputs": [
    {
     "data": {
      "text/plain": [
       "True"
      ]
     },
     "metadata": {},
     "output_type": "display_data"
    }
   ],
   "source": []
  },
  {
   "cell_type": "code",
   "execution_count": null,
   "metadata": {},
   "outputs": [],
   "source": []
  },
  {
   "cell_type": "code",
   "execution_count": 108,
   "metadata": {},
   "outputs": [],
   "source": []
  },
  {
   "cell_type": "code",
   "execution_count": null,
   "metadata": {},
   "outputs": [],
   "source": []
  },
  {
   "cell_type": "code",
   "execution_count": null,
   "metadata": {},
   "outputs": [],
   "source": []
  },
  {
   "cell_type": "code",
   "execution_count": null,
   "metadata": {},
   "outputs": [],
   "source": []
  },
  {
   "cell_type": "code",
   "execution_count": null,
   "metadata": {},
   "outputs": [],
   "source": []
  },
  {
   "cell_type": "code",
   "execution_count": null,
   "metadata": {},
   "outputs": [],
   "source": []
  },
  {
   "cell_type": "code",
   "execution_count": null,
   "metadata": {},
   "outputs": [],
   "source": []
  },
  {
   "cell_type": "code",
   "execution_count": 35,
   "metadata": {},
   "outputs": [],
   "source": [
    "satisfiesAll :: [a -> Bool] -> a -> Bool\n",
    "satisfiesAll [] _ = True\n",
    "satisfiesAll (f:preds) x = f x -- && satisfiesAll preds x"
   ]
  },
  {
   "cell_type": "code",
   "execution_count": 56,
   "metadata": {},
   "outputs": [
    {
     "data": {
      "text/plain": [
       "True"
      ]
     },
     "metadata": {},
     "output_type": "display_data"
    }
   ],
   "source": [
    "support :: Int -> Bool\n",
    "support x = x\n",
    "support 10"
   ]
  },
  {
   "cell_type": "code",
   "execution_count": null,
   "metadata": {},
   "outputs": [],
   "source": []
  },
  {
   "cell_type": "code",
   "execution_count": null,
   "metadata": {},
   "outputs": [],
   "source": []
  },
  {
   "cell_type": "code",
   "execution_count": null,
   "metadata": {},
   "outputs": [],
   "source": []
  },
  {
   "cell_type": "code",
   "execution_count": null,
   "metadata": {},
   "outputs": [],
   "source": []
  },
  {
   "cell_type": "code",
   "execution_count": null,
   "metadata": {},
   "outputs": [],
   "source": []
  },
  {
   "cell_type": "code",
   "execution_count": null,
   "metadata": {},
   "outputs": [],
   "source": []
  },
  {
   "cell_type": "code",
   "execution_count": 57,
   "metadata": {},
   "outputs": [
    {
     "data": {
      "text/plain": [
       "True"
      ]
     },
     "metadata": {},
     "output_type": "display_data"
    }
   ],
   "source": []
  }
 ],
 "metadata": {
  "kernelspec": {
   "display_name": "Haskell",
   "language": "haskell",
   "name": "haskell"
  },
  "language_info": {
   "codemirror_mode": "ihaskell",
   "file_extension": ".hs",
   "name": "haskell",
   "pygments_lexer": "Haskell",
   "version": "8.6.5"
  }
 },
 "nbformat": 4,
 "nbformat_minor": 4
}
