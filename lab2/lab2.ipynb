{
 "cells": [
  {
   "cell_type": "code",
   "execution_count": 1,
   "metadata": {},
   "outputs": [],
   "source": [
    "-- Многочлены\n",
    "-- a -- тип коэффициентов, список начинается со свободного члена.\n",
    "-- Бонус: при решении следующих заданий подумайте, какие стали бы проще или\n",
    "-- сложнее при обратном порядке коэффициентов (и добавьте комментарий).\n",
    "newtype Poly a = P [a]\n",
    "-- Задание 1 -----------------------------------------\n",
    "\n"
   ]
  },
  {
   "cell_type": "code",
   "execution_count": null,
   "metadata": {},
   "outputs": [],
   "source": []
  },
  {
   "cell_type": "code",
   "execution_count": 2,
   "metadata": {},
   "outputs": [],
   "source": [
    "-- Задание 2 -----------------------------------------\n",
    "\n",
    "-- Функция, считающая значение многочлена в точке\n",
    "applyPoly :: Num a => Poly a -> a -> a\n",
    "applyPoly (P []) _ = 0\n",
    "applyPoly (P (a0:as)) x0 = a0 + x0 * applyPoly (P as) x0"
   ]
  },
  {
   "cell_type": "code",
   "execution_count": 3,
   "metadata": {},
   "outputs": [],
   "source": [
    "-- Задание 3 ----------------------------------------\n",
    "\n",
    "-- Определите равенство многочленов\n",
    "-- Заметьте, что многочлены с разными списками коэффициентов\n",
    "-- могут быть равны! Подумайте, почему.\n",
    "instance (Num a, Eq a) => Eq (Poly a) where\n",
    "    (==) (P []) (P []) = True\n",
    "    (==) (P []) (P bs) = all (==0) bs\n",
    "    (==) (P as) (P []) = all (==0) as\n",
    "    (==) (P (a:as)) (P(b:bs)) = (all (==0) as && all (==0) bs && a == 0 && b == 0) || (a == b && P as == P bs)  "
   ]
  },
  {
   "cell_type": "code",
   "execution_count": null,
   "metadata": {},
   "outputs": [],
   "source": []
  },
  {
   "cell_type": "code",
   "execution_count": null,
   "metadata": {},
   "outputs": [],
   "source": []
  },
  {
   "cell_type": "code",
   "execution_count": null,
   "metadata": {},
   "outputs": [],
   "source": []
  },
  {
   "cell_type": "code",
   "execution_count": 4,
   "metadata": {},
   "outputs": [],
   "source": [
    "-- Задание 4 -----------------------------------------\n",
    "-- Определите перевод многочлена в строку. \n",
    "-- Это должна быть стандартная математическая запись, \n",
    "-- например: show (3 * x * x + 1) == \"3 * x^2 + 1\").\n",
    "-- (* и + для многочленов можно будет использовать после задания 6.)\n",
    "instance (Num a, Eq a, Show a) => Show (Poly a) where\n",
    "    show (P p) = let ps = reverse $ filter ((/= 0) . fst) $ zip p ([0..] :: [Integer])\n",
    "                     showPoly [] = [\"0\"]\n",
    "                     showPoly (a:as) = showFst a : map showNxt as where\n",
    "                        showSign c False = if head (show c) == '-' \n",
    "                                            then \" - \"\n",
    "                                            else \" + \"\n",
    "                        \n",
    "                        showSign c True = if head (show c) == '-' \n",
    "                                            then \"-\"\n",
    "                                            else \"\"\n",
    "                        \n",
    "                        showPower 0 = \"\"\n",
    "                        showPower 1 = \"x\"\n",
    "                        showPower n = \"x^\" ++ show n\n",
    "\n",
    "                        showValue c = show (abs c)\n",
    "                        \n",
    "                        iter c state = showSign (fst c) state ++ showValue (fst c) ++ showPower (snd c)\n",
    "                        showFst c  = iter c True\n",
    "                        showNxt c = iter c False\n",
    "                        \n",
    "                  in concat $ showPoly ps"
   ]
  },
  {
   "cell_type": "code",
   "execution_count": null,
   "metadata": {},
   "outputs": [],
   "source": []
  },
  {
   "cell_type": "code",
   "execution_count": 5,
   "metadata": {},
   "outputs": [],
   "source": [
    "c = [-10,2,-3,4,5,-10, 12, 13, 12 ,14, -23, 1234, 1234, 0, 11]\n",
    "c1 = [0, 0, 0]\n",
    "c3 = [-10, -11]\n",
    "c4 = [0, 0, 0, -10]"
   ]
  },
  {
   "cell_type": "code",
   "execution_count": 6,
   "metadata": {},
   "outputs": [
    {
     "data": {
      "text/plain": [
       "\"-10x^3\""
      ]
     },
     "metadata": {},
     "output_type": "display_data"
    }
   ],
   "source": [
    "show (P c4)"
   ]
  },
  {
   "cell_type": "code",
   "execution_count": null,
   "metadata": {},
   "outputs": [],
   "source": []
  },
  {
   "cell_type": "code",
   "execution_count": null,
   "metadata": {},
   "outputs": [],
   "source": []
  },
  {
   "cell_type": "code",
   "execution_count": null,
   "metadata": {},
   "outputs": [],
   "source": []
  },
  {
   "cell_type": "code",
   "execution_count": null,
   "metadata": {},
   "outputs": [],
   "source": []
  },
  {
   "cell_type": "code",
   "execution_count": 7,
   "metadata": {},
   "outputs": [],
   "source": [
    "-- Задание 5 -----------------------------------------\n",
    "\n",
    "-- Определите сложение многочленов\n",
    "plus :: Num a => Poly a -> Poly a -> Poly a\n",
    "plus (P p1) (P p2) = P $ plus' p1 p2\n",
    " where\n",
    "  plus' []       b        = b\n",
    "  plus' a        []       = a\n",
    "  plus' (a : as) (b : bs) = (a + b) : plus' as bs"
   ]
  },
  {
   "cell_type": "code",
   "execution_count": 8,
   "metadata": {},
   "outputs": [],
   "source": [
    "-- Задание 6 -----------------------------------------\n",
    "\n",
    "-- Определите умножение многочленов\n",
    "times :: Num a => Poly a -> Poly a -> Poly a\n",
    "times (P p1) (P p2) = times' (P p1) (P p2)\n",
    " where\n",
    "    times' (P []      ) _      = P []\n",
    "    times' _ (P []) = P []\n",
    "    times' (P (a : as)) (P bs) = P (map (a *) bs) `plus` times' (P as) (P (0:bs))"
   ]
  },
  {
   "cell_type": "code",
   "execution_count": 9,
   "metadata": {},
   "outputs": [
    {
     "data": {
      "text/plain": [
       "12x^4 + 17x^3 + 16x^2 + 7x + 2"
      ]
     },
     "metadata": {},
     "output_type": "display_data"
    }
   ],
   "source": [
    "times (P [1,2,3])  (P [2, 3, 4])"
   ]
  },
  {
   "cell_type": "code",
   "execution_count": 12,
   "metadata": {},
   "outputs": [],
   "source": [
    "-- Задание 7 -----------------------------------------\n",
    "\n",
    "-- Сделайте многочлены числовым типом\n",
    "instance Num a => Num (Poly a) where\n",
    "    (+) = plus\n",
    "    (*) = times\n",
    "    negate (P p) = P $ map negate p\n",
    "    fromInteger s = P [fromIntegral s]\n",
    "    -- Эти функции оставить как undefined, поскольку для \n",
    "    -- многочленов они не имеют математического смысла\n",
    "    abs    = undefined\n",
    "    signum = undefined"
   ]
  },
  {
   "cell_type": "code",
   "execution_count": null,
   "metadata": {},
   "outputs": [],
   "source": []
  },
  {
   "cell_type": "code",
   "execution_count": null,
   "metadata": {},
   "outputs": [],
   "source": []
  },
  {
   "cell_type": "code",
   "execution_count": null,
   "metadata": {},
   "outputs": [],
   "source": []
  },
  {
   "cell_type": "code",
   "execution_count": 16,
   "metadata": {},
   "outputs": [],
   "source": [
    "-- Задание 8 -----------------------------------------\n",
    "\n",
    "-- Реализуйте nderiv через deriv\n",
    "class Num a => Differentiable a where\n",
    "    -- взятие производной\n",
    "    deriv  :: a -> a\n",
    "    -- взятие n-ной производной\n",
    "    nderiv :: Int -> a -> a\n",
    "    nderiv n poly = iterate deriv poly !! n\n",
    "\n",
    "-- Задание 9 -----------------------------------------\n",
    "-- Определите экземпляр класса типов\n",
    "instance Num a => Differentiable (Poly a) where\n",
    "    deriv (P []) = P []\n",
    "    deriv (P (_:ps)) = P $ deriv' ps 1 where\n",
    "        deriv' [] _ = []\n",
    "        deriv' (a:as) n = a * n : deriv' as (n + 1)"
   ]
  },
  {
   "cell_type": "code",
   "execution_count": 410,
   "metadata": {},
   "outputs": [
    {
     "data": {},
     "metadata": {},
     "output_type": "display_data"
    }
   ],
   "source": []
  }
 ],
 "metadata": {
  "kernelspec": {
   "display_name": "Haskell",
   "language": "haskell",
   "name": "haskell"
  },
  "language_info": {
   "codemirror_mode": "ihaskell",
   "file_extension": ".hs",
   "name": "haskell",
   "pygments_lexer": "Haskell",
   "version": "8.6.5"
  }
 },
 "nbformat": 4,
 "nbformat_minor": 4
}
