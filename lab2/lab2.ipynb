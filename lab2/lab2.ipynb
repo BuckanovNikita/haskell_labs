{
 "cells": [
  {
   "cell_type": "code",
   "execution_count": 1,
   "metadata": {},
   "outputs": [],
   "source": [
    "-- Многочлены\n",
    "-- a -- тип коэффициентов, список начинается со свободного члена.\n",
    "-- Бонус: при решении следующих заданий подумайте, какие стали бы проще или\n",
    "-- сложнее при обратном порядке коэффициентов (и добавьте комментарий).\n",
    "newtype Poly a = P [a]\n",
    "-- Задание 1 -----------------------------------------\n",
    "\n"
   ]
  },
  {
   "cell_type": "code",
   "execution_count": null,
   "metadata": {},
   "outputs": [],
   "source": []
  },
  {
   "cell_type": "code",
   "execution_count": 2,
   "metadata": {},
   "outputs": [],
   "source": [
    "-- Задание 2 -----------------------------------------\n",
    "\n",
    "-- Функция, считающая значение многочлена в точке\n",
    "applyPoly :: Num a => Poly a -> a -> a\n",
    "applyPoly (P []) _ = 0\n",
    "applyPoly (P (a0:as)) x0 = a0 + x0 * applyPoly (P as) x0"
   ]
  },
  {
   "cell_type": "code",
   "execution_count": 3,
   "metadata": {},
   "outputs": [],
   "source": [
    "-- Задание 3 ----------------------------------------\n",
    "\n",
    "-- Определите равенство многочленов\n",
    "-- Заметьте, что многочлены с разными списками коэффициентов\n",
    "-- могут быть равны! Подумайте, почему.\n",
    "instance (Num a, Eq a) => Eq (Poly a) where\n",
    "    (==) (P []) (P []) = True\n",
    "    (==) (P []) (P bs) = all (==0) bs\n",
    "    (==) (P as) (P []) = all (==0) as\n",
    "    (==) (P (a:as)) (P(b:bs)) = (all (==0) as && all (==0) bs && a == 0 && b == 0) || (a == b && P as == P bs)  "
   ]
  },
  {
   "cell_type": "code",
   "execution_count": null,
   "metadata": {},
   "outputs": [],
   "source": []
  },
  {
   "cell_type": "code",
   "execution_count": null,
   "metadata": {},
   "outputs": [],
   "source": []
  },
  {
   "cell_type": "code",
   "execution_count": null,
   "metadata": {},
   "outputs": [],
   "source": []
  },
  {
   "cell_type": "code",
   "execution_count": 4,
   "metadata": {},
   "outputs": [
    {
     "data": {
      "text/html": [
       "<style>/* Styles used for the Hoogle display in the pager */\n",
       ".hoogle-doc {\n",
       "display: block;\n",
       "padding-bottom: 1.3em;\n",
       "padding-left: 0.4em;\n",
       "}\n",
       ".hoogle-code {\n",
       "display: block;\n",
       "font-family: monospace;\n",
       "white-space: pre;\n",
       "}\n",
       ".hoogle-text {\n",
       "display: block;\n",
       "}\n",
       ".hoogle-name {\n",
       "color: green;\n",
       "font-weight: bold;\n",
       "}\n",
       ".hoogle-head {\n",
       "font-weight: bold;\n",
       "}\n",
       ".hoogle-sub {\n",
       "display: block;\n",
       "margin-left: 0.4em;\n",
       "}\n",
       ".hoogle-package {\n",
       "font-weight: bold;\n",
       "font-style: italic;\n",
       "}\n",
       ".hoogle-module {\n",
       "font-weight: bold;\n",
       "}\n",
       ".hoogle-class {\n",
       "font-weight: bold;\n",
       "}\n",
       ".get-type {\n",
       "color: green;\n",
       "font-weight: bold;\n",
       "font-family: monospace;\n",
       "display: block;\n",
       "white-space: pre-wrap;\n",
       "}\n",
       ".show-type {\n",
       "color: green;\n",
       "font-weight: bold;\n",
       "font-family: monospace;\n",
       "margin-left: 1em;\n",
       "}\n",
       ".mono {\n",
       "font-family: monospace;\n",
       "display: block;\n",
       "}\n",
       ".err-msg {\n",
       "color: red;\n",
       "font-style: italic;\n",
       "font-family: monospace;\n",
       "white-space: pre;\n",
       "display: block;\n",
       "}\n",
       "#unshowable {\n",
       "color: red;\n",
       "font-weight: bold;\n",
       "}\n",
       ".err-msg.in.collapse {\n",
       "padding-top: 0.7em;\n",
       "}\n",
       ".highlight-code {\n",
       "white-space: pre;\n",
       "font-family: monospace;\n",
       "}\n",
       ".suggestion-warning { \n",
       "font-weight: bold;\n",
       "color: rgb(200, 130, 0);\n",
       "}\n",
       ".suggestion-error { \n",
       "font-weight: bold;\n",
       "color: red;\n",
       "}\n",
       ".suggestion-name {\n",
       "font-weight: bold;\n",
       "}\n",
       "</style><div class=\"suggestion-name\" style=\"clear:both;\">Use uncurry</div><div class=\"suggestion-row\" style=\"float: left;\"><div class=\"suggestion-warning\">Found:</div><div class=\"highlight-code\" id=\"haskell\">showValue (fst c) (snd c)</div></div><div class=\"suggestion-row\" style=\"float: left;\"><div class=\"suggestion-warning\">Why Not:</div><div class=\"highlight-code\" id=\"haskell\">uncurry showValue c</div></div>"
      ],
      "text/plain": [
       "Line 28: Use uncurry\n",
       "Found:\n",
       "showValue (fst c) (snd c)\n",
       "Why not:\n",
       "uncurry showValue c"
      ]
     },
     "metadata": {},
     "output_type": "display_data"
    }
   ],
   "source": [
    "-- Задание 4 -----------------------------------------\n",
    "-- Определите перевод многочлена в строку. \n",
    "-- Это должна быть стандартная математическая запись, \n",
    "-- например: show (3 * x * x + 1) == \"3 * x^2 + 1\").\n",
    "-- (* и + для многочленов можно будет использовать после задания 6.)\n",
    "instance (Num a, Eq a, Show a) => Show (Poly a) where\n",
    "    show (P p) = let ps = reverse $ filter ((/= 0) . fst) $ zip p ([0..] :: [Integer])\n",
    "                     showPoly [] = [\"0\"]\n",
    "                     showPoly (a:as) = showFst a : map showNxt as where\n",
    "                        showSign c False = if head (show c) == '-' \n",
    "                                            then \" - \"\n",
    "                                            else \" + \"\n",
    "                        \n",
    "                        showSign c True = if head (show c) == '-' \n",
    "                                            then \"-\"\n",
    "                                            else \"\"\n",
    "                        \n",
    "                        showPower 0 = \"\"\n",
    "                        showPower 1 = \"x\"\n",
    "                        showPower n = \"x^\" ++ show n\n",
    "\n",
    "                        showValue c pow | c == 1  && pow > 0 = \"\"\n",
    "                                        | c == -1 && pow > 0 = \"\"\n",
    "                                        | c == 1 && pow == 0 = show 1\n",
    "                                        | c == -1 && pow == 0 = show 1\n",
    "                                        | otherwise = show (abs c) ++ \" * \"\n",
    "                        \n",
    "                        iter c state = showSign (fst c) state ++ showValue (fst c) (snd c) ++ showPower (snd c)\n",
    "                        showFst c  = iter c True\n",
    "                        showNxt c = iter c False\n",
    "                        \n",
    "                  in concat $ showPoly ps"
   ]
  },
  {
   "cell_type": "code",
   "execution_count": null,
   "metadata": {},
   "outputs": [],
   "source": []
  },
  {
   "cell_type": "code",
   "execution_count": 5,
   "metadata": {},
   "outputs": [],
   "source": [
    "c = [-10,2,-3,4,5,-10, 12, 13, 12 ,14, -23, 1234, 1234, 0, 11]\n",
    "c1 = [0, 0, 0]\n",
    "c3 = [-10, -11]\n",
    "c4 = [0, 0, 0, -10]"
   ]
  },
  {
   "cell_type": "code",
   "execution_count": 6,
   "metadata": {},
   "outputs": [
    {
     "data": {
      "text/plain": [
       "\"-10 * x^3\""
      ]
     },
     "metadata": {},
     "output_type": "display_data"
    }
   ],
   "source": [
    "show (P c4)"
   ]
  },
  {
   "cell_type": "code",
   "execution_count": null,
   "metadata": {},
   "outputs": [],
   "source": []
  },
  {
   "cell_type": "code",
   "execution_count": null,
   "metadata": {},
   "outputs": [],
   "source": []
  },
  {
   "cell_type": "code",
   "execution_count": null,
   "metadata": {},
   "outputs": [],
   "source": []
  },
  {
   "cell_type": "code",
   "execution_count": null,
   "metadata": {},
   "outputs": [],
   "source": []
  },
  {
   "cell_type": "code",
   "execution_count": 7,
   "metadata": {},
   "outputs": [],
   "source": [
    "-- Задание 5 -----------------------------------------\n",
    "\n",
    "-- Определите сложение многочленов\n",
    "plus :: Num a => Poly a -> Poly a -> Poly a\n",
    "plus (P p1) (P p2) = P $ plus' p1 p2\n",
    " where\n",
    "  plus' []       b        = b\n",
    "  plus' a        []       = a\n",
    "  plus' (a : as) (b : bs) = (a + b) : plus' as bs"
   ]
  },
  {
   "cell_type": "code",
   "execution_count": 8,
   "metadata": {},
   "outputs": [],
   "source": [
    "-- Задание 6 -----------------------------------------\n",
    "\n",
    "-- Определите умножение многочленов\n",
    "times :: Num a => Poly a -> Poly a -> Poly a\n",
    "times (P p1) (P p2) = times' (P p1) (P p2)\n",
    " where\n",
    "    times' (P []      ) _      = P []\n",
    "    times' _ (P []) = P []\n",
    "    times' (P (a : as)) (P bs) = P (map (a *) bs) `plus` times' (P as) (P (0:bs))"
   ]
  },
  {
   "cell_type": "code",
   "execution_count": 9,
   "metadata": {},
   "outputs": [
    {
     "data": {
      "text/plain": [
       "12 * x^4 + 17 * x^3 + 16 * x^2 + 7 * x + 2 *"
      ]
     },
     "metadata": {},
     "output_type": "display_data"
    }
   ],
   "source": [
    "times (P [1,2,3])  (P [2, 3, 4])"
   ]
  },
  {
   "cell_type": "code",
   "execution_count": 10,
   "metadata": {},
   "outputs": [],
   "source": [
    "-- Задание 7 -----------------------------------------\n",
    "\n",
    "-- Сделайте многочлены числовым типом\n",
    "instance Num a => Num (Poly a) where\n",
    "    (+) = plus\n",
    "    (*) = times\n",
    "    negate (P p) = P $ map negate p\n",
    "    fromInteger s = P [fromIntegral s]\n",
    "    -- Эти функции оставить как undefined, поскольку для \n",
    "    -- многочленов они не имеют математического смысла\n",
    "    abs    = undefined\n",
    "    signum = undefined"
   ]
  },
  {
   "cell_type": "code",
   "execution_count": null,
   "metadata": {},
   "outputs": [],
   "source": []
  },
  {
   "cell_type": "code",
   "execution_count": null,
   "metadata": {},
   "outputs": [],
   "source": []
  },
  {
   "cell_type": "code",
   "execution_count": null,
   "metadata": {},
   "outputs": [],
   "source": []
  },
  {
   "cell_type": "code",
   "execution_count": 11,
   "metadata": {},
   "outputs": [],
   "source": [
    "-- Задание 8 -----------------------------------------\n",
    "\n",
    "-- Реализуйте nderiv через deriv\n",
    "class Num a => Differentiable a where\n",
    "    -- взятие производной\n",
    "    deriv  :: a -> a\n",
    "    -- взятие n-ной производной\n",
    "    nderiv :: Int -> a -> a\n",
    "    nderiv n poly = iterate deriv poly !! n\n",
    "\n",
    "-- Задание 9 -----------------------------------------\n",
    "-- Определите экземпляр класса типов\n",
    "instance Num a => Differentiable (Poly a) where\n",
    "    deriv (P []) = P []\n",
    "    deriv (P (_:ps)) = P $ deriv' ps 1 where\n",
    "        deriv' [] _ = []\n",
    "        deriv' (a:as) n = a * n : deriv' as (n + 1)"
   ]
  },
  {
   "cell_type": "code",
   "execution_count": null,
   "metadata": {},
   "outputs": [],
   "source": []
  },
  {
   "cell_type": "code",
   "execution_count": 12,
   "metadata": {},
   "outputs": [
    {
     "data": {
      "text/plain": [
       "1024 * x^12 - 3 * x^11 - 2 * x^10 - x^9 + 3 * x^8 + 2 * x^7 + x^6 - 3 * x^5 - 2 * x^4 - x^3 + 3 * x^2 + 2 * x + 1"
      ]
     },
     "metadata": {},
     "output_type": "display_data"
    }
   ],
   "source": [
    "P [1, 2, 3, -1, -2, -3, 1, 2, 3, -1, -2, -3, 1024]"
   ]
  },
  {
   "cell_type": "code",
   "execution_count": 13,
   "metadata": {},
   "outputs": [
    {
     "data": {
      "text/html": [
       "<style>/* Styles used for the Hoogle display in the pager */\n",
       ".hoogle-doc {\n",
       "display: block;\n",
       "padding-bottom: 1.3em;\n",
       "padding-left: 0.4em;\n",
       "}\n",
       ".hoogle-code {\n",
       "display: block;\n",
       "font-family: monospace;\n",
       "white-space: pre;\n",
       "}\n",
       ".hoogle-text {\n",
       "display: block;\n",
       "}\n",
       ".hoogle-name {\n",
       "color: green;\n",
       "font-weight: bold;\n",
       "}\n",
       ".hoogle-head {\n",
       "font-weight: bold;\n",
       "}\n",
       ".hoogle-sub {\n",
       "display: block;\n",
       "margin-left: 0.4em;\n",
       "}\n",
       ".hoogle-package {\n",
       "font-weight: bold;\n",
       "font-style: italic;\n",
       "}\n",
       ".hoogle-module {\n",
       "font-weight: bold;\n",
       "}\n",
       ".hoogle-class {\n",
       "font-weight: bold;\n",
       "}\n",
       ".get-type {\n",
       "color: green;\n",
       "font-weight: bold;\n",
       "font-family: monospace;\n",
       "display: block;\n",
       "white-space: pre-wrap;\n",
       "}\n",
       ".show-type {\n",
       "color: green;\n",
       "font-weight: bold;\n",
       "font-family: monospace;\n",
       "margin-left: 1em;\n",
       "}\n",
       ".mono {\n",
       "font-family: monospace;\n",
       "display: block;\n",
       "}\n",
       ".err-msg {\n",
       "color: red;\n",
       "font-style: italic;\n",
       "font-family: monospace;\n",
       "white-space: pre;\n",
       "display: block;\n",
       "}\n",
       "#unshowable {\n",
       "color: red;\n",
       "font-weight: bold;\n",
       "}\n",
       ".err-msg.in.collapse {\n",
       "padding-top: 0.7em;\n",
       "}\n",
       ".highlight-code {\n",
       "white-space: pre;\n",
       "font-family: monospace;\n",
       "}\n",
       ".suggestion-warning { \n",
       "font-weight: bold;\n",
       "color: rgb(200, 130, 0);\n",
       "}\n",
       ".suggestion-error { \n",
       "font-weight: bold;\n",
       "color: red;\n",
       "}\n",
       ".suggestion-name {\n",
       "font-weight: bold;\n",
       "}\n",
       "</style><div class=\"suggestion-name\" style=\"clear:both;\">Redundant bracket</div><div class=\"suggestion-row\" style=\"float: left;\"><div class=\"suggestion-warning\">Found:</div><div class=\"highlight-code\" id=\"haskell\">(P [1, 1, -1])</div></div><div class=\"suggestion-row\" style=\"float: left;\"><div class=\"suggestion-warning\">Why Not:</div><div class=\"highlight-code\" id=\"haskell\">P [1, 1, -1]</div></div>"
      ],
      "text/plain": [
       "Line 1: Redundant bracket\n",
       "Found:\n",
       "(P [1, 1, -1])\n",
       "Why not:\n",
       "P [1, 1, -1]"
      ]
     },
     "metadata": {},
     "output_type": "display_data"
    },
    {
     "data": {
      "text/plain": [
       "-x^2 + x + 1"
      ]
     },
     "metadata": {},
     "output_type": "display_data"
    }
   ],
   "source": [
    "(P [1, 1, -1])"
   ]
  },
  {
   "cell_type": "code",
   "execution_count": 14,
   "metadata": {},
   "outputs": [
    {
     "data": {
      "text/plain": [
       "\"1024 * x^12 - 2 * x^10 - x^9 + 3 * x^8 + 2 * x^7 + x^6 - 3 * x^5 - 2 * x^4 - x^3 + 3 * x^2 + 2 * x + 1\""
      ]
     },
     "metadata": {},
     "output_type": "display_data"
    }
   ],
   "source": [
    "show (P [1, 2, 3, -1, -2, -3, 1, 2, 3, -1, -2, 0, 1024])"
   ]
  },
  {
   "cell_type": "code",
   "execution_count": 15,
   "metadata": {},
   "outputs": [
    {
     "data": {
      "text/plain": [
       "\"1024 * x^12 - 3 * x^11 - 2 * x^10 - x^9 + 3 * x^8 + 2 * x^7 + x^6 - 3 * x^5 - 2 * x^4 - x^3 + 3 * x^2 + 2 * x + 1\""
      ]
     },
     "metadata": {},
     "output_type": "display_data"
    }
   ],
   "source": [
    "\"1024 * x^12 - 3 * x^11 - 2 * x^10 - x^9 + 3 * x^8 + 2 * x^7 + x^6 - 3 * x^5 - 2 * x^4 - x^3 + 3 * x^2 + 2 * x + 1\""
   ]
  },
  {
   "cell_type": "code",
   "execution_count": null,
   "metadata": {},
   "outputs": [],
   "source": []
  },
  {
   "cell_type": "code",
   "execution_count": 56,
   "metadata": {},
   "outputs": [
    {
     "data": {
      "text/plain": [
       "True"
      ]
     },
     "metadata": {},
     "output_type": "display_data"
    }
   ],
   "source": [
    "show (P [0.0, 0.0, 0.0, 0.0]) == \"0\""
   ]
  },
  {
   "cell_type": "code",
   "execution_count": null,
   "metadata": {},
   "outputs": [],
   "source": [
    "show (P [-1.0]) == \"-1\""
   ]
  },
  {
   "cell_type": "code",
   "execution_count": 61,
   "metadata": {},
   "outputs": [
    {
     "data": {
      "text/plain": [
       "True"
      ]
     },
     "metadata": {},
     "output_type": "display_data"
    }
   ],
   "source": [
    "show (P [-1, -2, 0]) == \"-2 * x - 1\""
   ]
  },
  {
   "cell_type": "code",
   "execution_count": 60,
   "metadata": {},
   "outputs": [
    {
     "data": {
      "text/plain": [
       "True"
      ]
     },
     "metadata": {},
     "output_type": "display_data"
    }
   ],
   "source": [
    "show (P [-1, 2]) == \"2 * x - 1\""
   ]
  },
  {
   "cell_type": "code",
   "execution_count": 63,
   "metadata": {},
   "outputs": [
    {
     "data": {
      "text/plain": [
       "True"
      ]
     },
     "metadata": {},
     "output_type": "display_data"
    }
   ],
   "source": [
    "show (P [1, 1, -1]) == \"-x^2 + x + 1\""
   ]
  },
  {
   "cell_type": "code",
   "execution_count": 21,
   "metadata": {},
   "outputs": [
    {
     "data": {
      "text/plain": [
       "True"
      ]
     },
     "metadata": {},
     "output_type": "display_data"
    },
    {
     "data": {
      "text/plain": [
       "True"
      ]
     },
     "metadata": {},
     "output_type": "display_data"
    },
    {
     "data": {
      "text/plain": [
       "True"
      ]
     },
     "metadata": {},
     "output_type": "display_data"
    },
    {
     "data": {
      "text/plain": [
       "True"
      ]
     },
     "metadata": {},
     "output_type": "display_data"
    },
    {
     "data": {
      "text/plain": [
       "True"
      ]
     },
     "metadata": {},
     "output_type": "display_data"
    },
    {
     "data": {
      "text/plain": [
       "True"
      ]
     },
     "metadata": {},
     "output_type": "display_data"
    },
    {
     "data": {
      "text/plain": [
       "True"
      ]
     },
     "metadata": {},
     "output_type": "display_data"
    }
   ],
   "source": [
    "show (P []) == \"0\"\n",
    "show (P [1]) == \"1\"\n",
    "show (P [-1.0]) == \"-1\"\n",
    "show (P [0.0, 0.0, 0.0, 0.0]) == \"0\"\n",
    "show (P [-1, 2]) == \"2 * x - 1\"\n",
    "show (P [-1, -2, 0]) == \"-2 * x - 1\"\n",
    "show (P [1, 1, -1]) == \"-x^2 + x + 1\""
   ]
  },
  {
   "cell_type": "code",
   "execution_count": 19,
   "metadata": {},
   "outputs": [
    {
     "data": {
      "text/plain": [
       "\"-1\""
      ]
     },
     "metadata": {},
     "output_type": "display_data"
    }
   ],
   "source": [
    "show (P [-1.0])"
   ]
  }
 ],
 "metadata": {
  "kernelspec": {
   "display_name": "Haskell",
   "language": "haskell",
   "name": "haskell"
  },
  "language_info": {
   "codemirror_mode": "ihaskell",
   "file_extension": ".hs",
   "name": "haskell",
   "pygments_lexer": "Haskell",
   "version": "8.6.5"
  }
 },
 "nbformat": 4,
 "nbformat_minor": 4
}
